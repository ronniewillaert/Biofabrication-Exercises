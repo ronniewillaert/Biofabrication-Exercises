{
 "cells": [
  {
   "cell_type": "markdown",
   "id": "88302fdc",
   "metadata": {},
   "source": [
    "# Biofabrication — Chapter 4: Interactive Python Exercises (Student Notebook)\n",
    "\n",
    "**Keep this notebook self-contained.** Each exercise has a short description and a runnable code cell.\n",
    "Run the **Setup** cell first.\n",
    "\n",
    "**Topics covered**\n",
    "- Photocuring dose & exposure\n",
    "- Layer-based print time (AM)\n",
    "- SLA exposure budgeting\n",
    "- Mass of printed implants with infill\n",
    "- Oxygen diffusion & viable thickness (1D diffusion–reaction, steady-state)\n",
    "- Effective diffusivity in hydrogels\n",
    "- Extrusion flow & wall shear stress (Hagen–Poiseuille)\n",
    "- Composite modulus (Voigt/Reuss bounds)\n",
    "- (Bonus) 4D bilayer bending (Timoshenko-like approximation)"
   ]
  },
  {
   "cell_type": "code",
   "execution_count": null,
   "id": "95aa66fe",
   "metadata": {},
   "outputs": [],
   "source": [
    "# @title Setup (helpers & units)\n",
    "import math, numpy as np\n",
    "from textwrap import dedent\n",
    "\n",
    "# Pretty printer\n",
    "def hr(title=\"\"):\n",
    "    line = \"=\"*len(title)\n",
    "    print(f\"\\n{line}\\n{title}\\n{line}\")\n",
    "\n",
    "# Units\n",
    "mW_per_cm2_to_W_per_m2 = 10.0  # 1 mW/cm^2 = 10 W/m^2\n",
    "mm_to_m = 1e-3\n",
    "um_to_m = 1e-6\n",
    "cm3_to_m3 = 1e-6"
   ]
  },
  {
   "cell_type": "markdown",
   "id": "8a09554a",
   "metadata": {},
   "source": [
    "## 1) Photocuring Dose → Exposure Time\n",
    "\n",
    "Given a required dose (mJ/cm²) and intensity (mW/cm²), compute exposure time:\n",
    "\\[\n",
    "\\text{Dose} = \\text{Intensity} \\times t \\quad\\Rightarrow\\quad t = \\frac{\\text{Dose}}{\\text{Intensity}}\n",
    "\\]\n",
    "\n",
    "> Try the example (50 mJ/cm² at 10 mW/cm²) and vary intensity."
   ]
  },
  {
   "cell_type": "code",
   "execution_count": null,
   "id": "953deff5",
   "metadata": {},
   "outputs": [],
   "source": [
    "# @title Photocuring dose → exposure time\n",
    "def exposure_time_seconds(required_dose_mJ_cm2: float, intensity_mW_cm2: float) -> float:\n",
    "    if intensity_mW_cm2 <= 0:\n",
    "        raise ValueError(\"Intensity must be > 0\")\n",
    "    return required_dose_mJ_cm2 / intensity_mW_cm2\n",
    "\n",
    "# Example\n",
    "t = exposure_time_seconds(50, 10)\n",
    "hr(\"Photocuring dose\")\n",
    "print(f\"Exposure time: {t:.2f} s  (50 mJ/cm² @ 10 mW/cm²)\")\n",
    "\n",
    "# Explore 5× intensity\n",
    "t5 = exposure_time_seconds(50, 50)\n",
    "print(f\"At 5× intensity (50 mW/cm²): {t5:.2f} s\")"
   ]
  },
  {
   "cell_type": "markdown",
   "id": "9ad02106",
   "metadata": {},
   "source": [
    "## 2) Layer-by-Layer Build Time\n",
    "\n",
    "For height \\(H\\), layer thickness \\(\\Delta z\\), and time per layer \\(t_\\ell\\):\n",
    "\\[\n",
    "T = \\left\\lceil \\frac{H}{\\Delta z} \\right\\rceil \\, t_\\ell\n",
    "\\]"
   ]
  },
  {
   "cell_type": "code",
   "execution_count": null,
   "id": "a2f61918",
   "metadata": {},
   "outputs": [],
   "source": [
    "# @title Total build time from layer height & per-layer time\n",
    "def total_build_time_seconds(height_mm: float, layer_mm: float, time_per_layer_s: float) -> float:\n",
    "    layers = math.ceil(height_mm / layer_mm)\n",
    "    return layers * time_per_layer_s\n",
    "\n",
    "# Example: 12 mm, 0.1 mm layers, 30 s/layer\n",
    "T = total_build_time_seconds(12.0, 0.1, 30.0)\n",
    "hr(\"Layer-by-layer build time\")\n",
    "print(f\"Total time: {T/60:.1f} minutes\")"
   ]
  },
  {
   "cell_type": "markdown",
   "id": "4a473eb0",
   "metadata": {},
   "source": [
    "## 3) SLA Exposure Budget (Resolution vs Speed)\n",
    "\n",
    "Compute total exposure for a print:"
   ]
  },
  {
   "cell_type": "code",
   "execution_count": null,
   "id": "9bc32ff6",
   "metadata": {},
   "outputs": [],
   "source": [
    "# @title SLA exposure time\n",
    "def sla_exposure_time_seconds(height_mm: float, layer_mm: float, exposure_per_layer_s: float) -> float:\n",
    "    layers = math.ceil(height_mm / layer_mm)\n",
    "    return layers * exposure_per_layer_s\n",
    "\n",
    "# Example: 30 mm, 0.05 mm, 20 s/layer\n",
    "Te = sla_exposure_time_seconds(30.0, 0.05, 20.0)\n",
    "hr(\"SLA exposure budget\")\n",
    "print(f\"Total exposure: {Te/3600:.2f} hours\")"
   ]
  },
  {
   "cell_type": "markdown",
   "id": "6197f356",
   "metadata": {},
   "source": [
    "## 4) Mass of Printed Implant (Infill Fraction)\n",
    "\n",
    "Mass \\(m = V \\cdot \\rho \\cdot f\\), where \\(f\\) is infill fraction."
   ]
  },
  {
   "cell_type": "code",
   "execution_count": null,
   "id": "9dda944a",
   "metadata": {},
   "outputs": [],
   "source": [
    "# @title Mass from volume, density, infill\n",
    "def implant_mass_g(volume_cm3: float, density_g_cm3: float, infill_fraction: float) -> float:\n",
    "    return volume_cm3 * density_g_cm3 * infill_fraction\n",
    "\n",
    "# Example: 2 cm³ PCL, ρ=1.1 g/cm³, 40% infill\n",
    "m = implant_mass_g(2.0, 1.1, 0.40)\n",
    "hr(\"Implant mass\")\n",
    "print(f\"Mass: {m:.3f} g\")"
   ]
  },
  {
   "cell_type": "markdown",
   "id": "0dc7eafe",
   "metadata": {},
   "source": [
    "## 5) Oxygen Diffusion & Viable Thickness (1D, steady-state)\n",
    "\n",
    "Steady-state diffusion–reaction on half-thickness \\(L\\):\n",
    "\\[\n",
    "D \\frac{d^2 c}{dx^2} - k c = 0,\\quad c(0)=c_0,\\quad \\frac{dc}{dx}\\big|_{x=L}=0\n",
    "\\]\n",
    "We search the largest \\(L\\) such that \\(\\min c(x) \\ge c_{\\min}\\)."
   ]
  },
  {
   "cell_type": "code",
   "execution_count": null,
   "id": "d85e2ae6",
   "metadata": {},
   "outputs": [],
   "source": [
    "# @title 1D diffusion–reaction viability thickness (finite difference)\n",
    "import numpy as np\n",
    "\n",
    "def viable_half_thickness(c0: float=1.0, cmin: float=0.1,\n",
    "                          D: float=3e-9,  # m^2/s\n",
    "                          k: float=0.01   # 1/s effective uptake\n",
    "                          ) -> float:\n",
    "    def min_c_for_L(L):\n",
    "        N = max(50, int(200*L/(200e-6)))\n",
    "        x = np.linspace(0, L, N+1)\n",
    "        dx = x[1]-x[0]\n",
    "        a = D/(dx*dx)\n",
    "        b = k\n",
    "        A = np.zeros((N+1, N+1))\n",
    "        rhs = np.zeros(N+1)\n",
    "        # Dirichlet at x=0\n",
    "        A[0,0] = 1.0\n",
    "        rhs[0] = c0\n",
    "        # Interior\n",
    "        for i in range(1, N):\n",
    "            A[i,i-1] = a\n",
    "            A[i,i]   = -2*a - b\n",
    "            A[i,i+1] = a\n",
    "        # Neumann at x=L\n",
    "        A[N,N] = 1.0\n",
    "        A[N,N-1] = -1.0\n",
    "        sol = np.linalg.solve(A, rhs)\n",
    "        return sol.min()\n",
    "\n",
    "    lo, hi = 10e-6, 2e-3\n",
    "    for _ in range(30):\n",
    "        mid = 0.5*(lo+hi)\n",
    "        if min_c_for_L(mid) >= cmin:\n",
    "            lo = mid\n",
    "        else:\n",
    "            hi = mid\n",
    "    return lo\n",
    "\n",
    "hr(\"Viable thickness (diffusion–reaction)\")\n",
    "L = viable_half_thickness(c0=1.0, cmin=0.1, D=3e-9, k=0.01)\n",
    "print(f\"Max half-thickness ≈ {L*1e6:.0f} µm  → full thickness ≈ {2*L*1e6:.0f} µm\")"
   ]
  },
  {
   "cell_type": "markdown",
   "id": "b9978896",
   "metadata": {},
   "source": [
    "## 6) Effective Diffusivity in Porous Hydrogels\n",
    "\n",
    "\\[\n",
    "D_e = D_0 \\frac{\\varepsilon}{\\tau}\n",
    "\\]"
   ]
  },
  {
   "cell_type": "code",
   "execution_count": null,
   "id": "79c3760c",
   "metadata": {},
   "outputs": [],
   "source": [
    "# @title Effective diffusivity De = D0 * ε / τ\n",
    "def effective_diffusivity(D0: float, porosity: float, tortuosity: float) -> float:\n",
    "    return D0 * porosity / tortuosity\n",
    "\n",
    "# Example\n",
    "D0 = 3e-9; eps, tau = 0.8, 2.0\n",
    "De = effective_diffusivity(D0, eps, tau)\n",
    "hr(\"Effective diffusivity\")\n",
    "print(f\"De = {De:.2e} m²/s\")\n",
    "print(f\"If τ doubles to {2*tau}, De halves → {effective_diffusivity(D0, eps, 2*tau):.2e} m²/s\")"
   ]
  },
  {
   "cell_type": "markdown",
   "id": "7f864ff1",
   "metadata": {},
   "source": [
    "## 7) Extrusion Flow & Wall Shear Stress (Hagen–Poiseuille)\n",
    "\n",
    "\\[\n",
    "Q = \\frac{\\pi r^4 P}{8 \\eta L}, \\quad\n",
    "\\tau_w = \\frac{4 \\eta Q}{\\pi r^3}\n",
    "\\]"
   ]
  },
  {
   "cell_type": "code",
   "execution_count": null,
   "id": "09bec1b7",
   "metadata": {},
   "outputs": [],
   "source": [
    "# @title Extrusion flow and wall shear stress\n",
    "def extrusion_Q_and_tau(radius_um: float, length_mm: float,\n",
    "                        viscosity_Pa_s: float, pressure_kPa: float):\n",
    "    r = radius_um * um_to_m\n",
    "    L = length_mm * mm_to_m\n",
    "    P = pressure_kPa * 1e3\n",
    "    Q = math.pi * r**4 * P / (8.0 * viscosity_Pa_s * L)  # m^3/s\n",
    "    tau = 4.0 * viscosity_Pa_s * Q / (math.pi * r**3)    # Pa\n",
    "    return Q, tau\n",
    "\n",
    "# Example: r=150 µm, L=5 mm, η=0.1 Pa·s, P=150 kPa\n",
    "Q, tau = extrusion_Q_and_tau(150.0, 5.0, 0.1, 150.0)\n",
    "hr(\"Extrusion & shear\")\n",
    "print(f\"Q = {Q*1e9:.2f} nL/s\")\n",
    "print(f\"Wall shear τ = {tau:.1f} Pa  (≤ ~200 Pa viability threshold?)\")"
   ]
  },
  {
   "cell_type": "markdown",
   "id": "bbb5fa13",
   "metadata": {},
   "source": [
    "## 8) Composite Modulus (Voigt/Reuss Bounds)\n",
    "\n",
    "Upper (iso-strain) and lower (iso-stress) bounds:\n",
    "\\[\n",
    "E_V = \\sum v_i E_i, \\qquad\n",
    "E_R = \\left(\\sum \\frac{v_i}{E_i}\\right)^{-1}\n",
    "\\]"
   ]
  },
  {
   "cell_type": "code",
   "execution_count": null,
   "id": "16d87892",
   "metadata": {},
   "outputs": [],
   "source": [
    "# @title Composite modulus (Voigt/Reuss bounds)\n",
    "def rule_of_mixtures_voigt(volumes, moduli):\n",
    "    return sum(v*E for v,E in zip(volumes, moduli))\n",
    "\n",
    "def rule_of_mixtures_reuss(volumes, moduli):\n",
    "    return 1.0 / sum(v/E for v,E in zip(volumes, moduli))\n",
    "\n",
    "# Example: 60% PCL (300 MPa), 40% hydrogel (0.5 MPa)\n",
    "v = [0.60, 0.40]\n",
    "E = [300e6, 0.5e6]  # Pa\n",
    "E_voigt = rule_of_mixtures_voigt(v,E)\n",
    "E_reuss = rule_of_mixtures_reuss(v,E)\n",
    "hr(\"Composite modulus\")\n",
    "print(f\"Voigt (iso-strain)  upper bound: {E_voigt/1e6:.2f} MPa\")\n",
    "print(f\"Reuss (iso-stress) lower bound: {E_reuss/1e6:.4f} MPa\")"
   ]
  },
  {
   "cell_type": "markdown",
   "id": "2003c529",
   "metadata": {},
   "source": [
    "## 9) (Bonus) 4D Thermoresponsive Bilayer Bending\n",
    "\n",
    "Simplified Timoshenko-like curvature for mismatch strain \\(\\epsilon = \\Delta \\alpha \\Delta T\\)."
   ]
  },
  {
   "cell_type": "code",
   "execution_count": null,
   "id": "120ec25c",
   "metadata": {},
   "outputs": [],
   "source": [
    "# @title Bilayer curvature (Timoshenko-like)\n",
    "def bilayer_curvature_timoshenko(E1, E2, t1, t2, delta_alpha, delta_T):\n",
    "    n = E2/E1\n",
    "    m = t2/t1\n",
    "    epsilon = delta_alpha * delta_T\n",
    "    kappa = (6*epsilon) / (t1*(1 + 4*m + 6*m**2 + 4*m**3 + m**4) * (1 + n*m))\n",
    "    return kappa  # 1/m\n",
    "\n",
    "# Example parameters (students should vary):\n",
    "E1, E2 = 10e3, 50e3   # Pa\n",
    "t1, t2 = 0.5e-3, 0.5e-3  # m\n",
    "delta_alpha = 2e-3       # per °C (effective swell/thermal coefficient difference)\n",
    "dT = 12.0                # °C (25→37)\n",
    "hr(\"4D bilayer curvature\")\n",
    "kappa = bilayer_curvature_timoshenko(E1,E2,t1,t2,delta_alpha,dT)\n",
    "R = 1.0/kappa if kappa != 0 else float(\"inf\")\n",
    "print(f\"Curvature κ ≈ {kappa:.2f} 1/m  → radius R ≈ {R:.2f} m\")"
   ]
  }
 ],
 "metadata": {},
 "nbformat": 4,
 "nbformat_minor": 5
}
