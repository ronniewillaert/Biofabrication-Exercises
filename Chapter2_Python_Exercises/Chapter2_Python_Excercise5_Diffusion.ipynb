{
  "cells": [
    {
      "cell_type": "markdown",
      "metadata": {
        "id": "title_header"
      },
      "source": [
        "# Chapter 2 - Exercise 5: Nutrient Diffusion and Cell Viability\n",
        "\n",
        "## Understanding Mass Transport Limitations in Scaffold-Free Biofabrication\n",
        "\n",
        "**Learning Objectives:**\n",
        "- Model oxygen and nutrient gradients in spheroids and 3D constructs\n",
        "- Understand formation of necrotic cores due to diffusion limitations\n",
        "- Calculate critical size limits for scaffold-free constructs\n",
        "- Explore how vascularization improves nutrient delivery\n",
        "\n",
        "**Python Skills:**\n",
        "- Solving differential equations (simplified diffusion models)\n",
        "- Creating 2D contour plots and gradient visualizations\n",
        "- Animating time-dependent processes\n",
        "\n",
        "---"
      ]
    },
    {
      "cell_type": "markdown",
      "metadata": {
        "id": "setup_section"
      },
      "source": [
        "## Setup and Imports\n",
        "\n",
        "Run this cell first to install required packages and import libraries."
      ]
    },
    {
      "cell_type": "code",
      "execution_count": null,
      "metadata": {
        "id": "setup_code"
      },
      "outputs": [],
      "source": [
        "# Install required packages\n",
        "!pip install numpy matplotlib scipy pandas seaborn ipywidgets\n",
        "\n",
        "# Import libraries\n",
        "import numpy as np\n",
        "import matplotlib.pyplot as plt\n",
        "from matplotlib.animation import FuncAnimation\n",
        "from IPython.display import HTML\n",
        "import pandas as pd\n",
        "import seaborn as sns\n",
        "from scipy.integrate import solve_ivp\n",
        "from scipy.optimize import fsolve\n",
        "import ipywidgets as widgets\n",
        "from IPython.display import display\n",
        "import warnings\n",
        "warnings.filterwarnings('ignore')\n",
        "\n",
        "# Set plotting style\n",
        "plt.style.use('default')\n",
        "plt.rcParams['figure.figsize'] = [10, 6]\n",
        "plt.rcParams['font.size'] = 12\n",
        "\n",
        "print(\"✅ All packages imported successfully!\")\n",
        "print(\"📚 Ready to explore nutrient diffusion in scaffold-free constructs!\")"
      ]
    },
    {
      "cell_type": "markdown",
      "metadata": {
        "id": "theory_section"
      },
      "source": [
        "## 📖 Background: Diffusion Limitations in 3D Tissue Constructs\n",
        "\n",
        "### The Diffusion Problem\n",
        "\n",
        "In scaffold-free biofabrication, cells must rely on **diffusion** to receive oxygen and nutrients. This creates fundamental limitations:\n",
        "\n",
        "- **Oxygen** has low solubility in aqueous media (~0.2 mM at 37°C)\n",
        "- **Diffusion** is relatively slow over distances >100 μm\n",
        "- **Cell consumption** creates gradients that worsen with construct size\n",
        "- **Necrotic cores** form when oxygen drops below survival thresholds\n",
        "\n",
        "### Mathematical Model\n",
        "\n",
        "For a spherical construct, oxygen concentration C(r,t) follows:\n",
        "\n",
        "**Fick's Second Law in Spherical Coordinates:**\n",
        "```\n",
        "∂C/∂t = D * (∂²C/∂r² + (2/r) * ∂C/∂r) - R_max * C/(K_m + C)\n",
        "```\n",
        "\n",
        "Where:\n",
        "- D = diffusion coefficient (cm²/s)\n",
        "- R_max = maximum consumption rate (mM/s)\n",
        "- K_m = Michaelis-Menten constant (mM)\n",
        "- C = oxygen concentration (mM)\n",
        "\n",
        "### Critical Parameters\n",
        "\n",
        "| Parameter | Typical Value | Units |\n",
        "|-----------|---------------|-------|\n",
        "| D_oxygen | 2.4 × 10⁻⁵ | cm²/s |\n",
        "| R_max | 1.0 × 10⁻⁸ | mM/s |\n",
        "| K_m | 0.01 | mM |\n",
        "| C_critical | 0.01 | mM |\n",
        "| C_surface | 0.2 | mM |"
      ]
    },
    {
      "cell_type": "markdown",
      "metadata": {
        "id": "database_section"
      },
      "source": [
        "## 🗃️ Tissue Properties Database\n",
        "\n",
        "Different cell types have varying oxygen consumption rates and critical thresholds."
      ]
    },
    {
      "cell_type": "code",
      "execution_count": null,
      "metadata": {
        "id": "database_code"
      },
      "outputs": [],
      "source": [
        "# Tissue properties database\n",
        "tissue_properties = {\n",
        "    'Hepatocytes': {\n",
        "        'R_max': 2.5e-8,  # mM/s - high metabolism\n",
        "        'K_m': 0.015,     # mM\n",
        "        'C_critical': 0.02,  # mM - sensitive to hypoxia\n",
        "        'cell_density': 1e8,  # cells/cm³\n",
        "        'description': 'High oxygen consumption, sensitive to hypoxia'\n",
        "    },\n",
        "    'Cardiomyocytes': {\n",
        "        'R_max': 2.0e-8,  # mM/s\n",
        "        'K_m': 0.012,     # mM\n",
        "        'C_critical': 0.015, # mM\n",
        "        'cell_density': 8e7,  # cells/cm³\n",
        "        'description': 'High energy demand, critical for heart function'\n",
        "    },\n",
        "    'Chondrocytes': {\n",
        "        'R_max': 0.5e-8,  # mM/s - low metabolism\n",
        "        'K_m': 0.008,     # mM\n",
        "        'C_critical': 0.005, # mM - hypoxia tolerant\n",
        "        'cell_density': 2e7,  # cells/cm³\n",
        "        'description': 'Low oxygen consumption, hypoxia tolerant'\n",
        "    },\n",
        "    'Tumor_cells': {\n",
        "        'R_max': 1.5e-8,  # mM/s\n",
        "        'K_m': 0.010,     # mM\n",
        "        'C_critical': 0.008, # mM - somewhat tolerant\n",
        "        'cell_density': 1.2e8, # cells/cm³\n",
        "        'description': 'Variable metabolism, can survive low oxygen'\n",
        "    },\n",
        "    'Neural_cells': {\n",
        "        'R_max': 1.8e-8,  # mM/s\n",
        "        'K_m': 0.020,     # mM\n",
        "        'C_critical': 0.025, # mM - very sensitive\n",
        "        'cell_density': 6e7,  # cells/cm³\n",
        "        'description': 'High oxygen demand, extremely sensitive to hypoxia'\n",
        "    },\n",
        "    'Fibroblasts': {\n",
        "        'R_max': 0.8e-8,  # mM/s - moderate metabolism\n",
        "        'K_m': 0.009,     # mM\n",
        "        'C_critical': 0.010, # mM\n",
        "        'cell_density': 5e7,  # cells/cm³\n",
        "        'description': 'Moderate consumption, relatively robust'\n",
        "    }\n",
        "}\n",
        "\n",
        "# Physical constants\n",
        "constants = {\n",
        "    'D_oxygen': 2.4e-5,    # cm²/s - oxygen diffusion coefficient\n",
        "    'C_surface': 0.2,      # mM - surface oxygen concentration\n",
        "    'temp': 37,            # °C - physiological temperature\n",
        "}\n",
        "\n",
        "# Display tissue properties\n",
        "print(\"🧬 Tissue Properties Database\")\n",
        "print(\"=\" * 50)\n",
        "df_tissues = pd.DataFrame(tissue_properties).T\n",
        "display(df_tissues[['R_max', 'C_critical', 'cell_density', 'description']])"
      ]
    }
  ],
  "metadata": {
    "colab": {
      "provenance": [],
      "toc_visible": true
    },
    "kernelspec": {
      "display_name": "Python 3",
      "name": "python3"
    },
    "language_info": {
      "name": "python"
    }
  },
  "nbformat": 4,
  "nbformat_minor": 0
}
