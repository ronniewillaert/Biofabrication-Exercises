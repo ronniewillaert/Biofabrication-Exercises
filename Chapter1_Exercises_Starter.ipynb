{
 "cells": [
  {
   "cell_type": "markdown",
   "id": "cc116067",
   "metadata": {},
   "source": [
    "# Chapter 1 – Exercises (Biofabrication)\n",
    "**Course:** Biofabrication (VUB)\n",
    "\n",
    "This notebook contains a simple computational exercise related to Chapter 1 (History and Definition). Students will use Python to explore implant lifetime and organ transplantation logistics.\n"
   ]
  },
  {
   "cell_type": "markdown",
   "id": "011f67a7",
   "metadata": {},
   "source": [
    "## Exercise 1 — Hip implant lifetime estimate\n",
    "A hip replacement typically lasts ~28 years.\n",
    "\n",
    "**Task:**\n",
    "- Write a function that, given the age of the patient at first implant and expected lifespan, computes the number of revisions needed.\n",
    "- Test it for a patient receiving the first implant at age 55, with life expectancy 82 years.\n",
    "- Explore how the result changes for life expectancies of 75, 85, and 90 years."
   ]
  },
  {
   "cell_type": "code",
   "execution_count": null,
   "id": "9df3b357",
   "metadata": {},
   "outputs": [],
   "source": [
    "\n",
    "def implant_revisions(age_first_implant, lifespan, implant_lifetime=28):\n",
    "    \"\"\"Return the number of implant revisions needed in a lifetime.\"\"\"\n",
    "    years_remaining = lifespan - age_first_implant\n",
    "    revisions = max(0, (years_remaining // implant_lifetime))\n",
    "    return int(revisions)\n",
    "\n",
    "# Example case\n",
    "age = 55\n",
    "lifespan = 82\n",
    "print(\"Revisions needed:\", implant_revisions(age, lifespan))\n",
    "\n",
    "# Explore different lifespans\n",
    "for L in [75, 82, 85, 90]:\n",
    "    print(f\"Lifespan {L} years -> {implant_revisions(age, L)} revision(s)\")\n"
   ]
  },
  {
   "cell_type": "markdown",
   "id": "e9f7f72c",
   "metadata": {},
   "source": [
    "## Exercise 2 — Kidney transplantation logistics\n",
    "A donor kidney can remain viable for 24 hours after removal.\n",
    "Transport between hospitals takes ~5 hours per step. Assume 3 transfer steps.\n",
    "\n",
    "**Task:**\n",
    "- Compute the total time consumed by transport.\n",
    "- Compute how much time remains for surgical preparation.\n",
    "- Generalize the calculation as a function of number of transfer steps and per-step time.\n"
   ]
  },
  {
   "cell_type": "code",
   "execution_count": null,
   "id": "050d11d3",
   "metadata": {},
   "outputs": [],
   "source": [
    "\n",
    "def kidney_time_remaining(total_viability=24, steps=3, hours_per_step=5):\n",
    "    transport_time = steps * hours_per_step\n",
    "    time_left = total_viability - transport_time\n",
    "    return transport_time, time_left\n",
    "\n",
    "# Example calculation\n",
    "transport, prep = kidney_time_remaining()\n",
    "print(f\"Transport time = {transport} h, Remaining for surgery = {prep} h\")\n",
    "\n",
    "# Explore different scenarios\n",
    "for steps in [2, 3, 4]:\n",
    "    t, p = kidney_time_remaining(steps=steps)\n",
    "    print(f\"{steps} steps -> transport {t} h, prep {p} h\")\n"
   ]
  }
 ],
 "metadata": {},
 "nbformat": 4,
 "nbformat_minor": 5
}
