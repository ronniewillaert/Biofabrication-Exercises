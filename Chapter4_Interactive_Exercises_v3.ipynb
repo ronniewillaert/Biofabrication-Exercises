{
 "cells": [
  {
   "cell_type": "markdown",
   "id": "4ca81056",
   "metadata": {},
   "source": [
    "\n",
    "# Biofabrication — Chapter 4: Interactive Python Exercises (Student Notebook, v3)\n",
    "\n",
    "Run the **Setup** cell first. Each exercise includes a short description, a LaTeX-rendered equation, and interactive controls (sliders/dropdowns).\n"
   ]
  },
  {
   "cell_type": "code",
   "execution_count": null,
   "id": "036ec122",
   "metadata": {},
   "outputs": [],
   "source": [
    "# @title Setup (helpers, units, widgets)\n",
    "import math, numpy as np\n",
    "from IPython.display import display, Markdown\n",
    "import ipywidgets as widgets\n",
    "\n",
    "# Units\n",
    "mm_to_m = 1e-3\n",
    "um_to_m = 1e-6\n",
    "cm3_to_m3 = 1e-6\n",
    "\n",
    "display(Markdown(\"**Ready.** Widgets loaded.\"))"
   ]
  },
  {
   "cell_type": "markdown",
   "id": "2f0630e0",
   "metadata": {},
   "source": [
    "\n",
    "## 1) Photocuring Dose → Exposure Time\n",
    "\n",
    "Compute exposure time from required dose and intensity.\n",
    "\n",
    "$$\n",
    "\\text{Dose} = \\text{Intensity}\\cdot t\n",
    "\\quad\\Rightarrow\\quad\n",
    "t = \\frac{\\text{Dose}}{\\text{Intensity}}\\;.\n",
    "$$\n"
   ]
  },
  {
   "cell_type": "code",
   "execution_count": null,
   "id": "744685cc",
   "metadata": {},
   "outputs": [],
   "source": [
    "# @title Photocuring dose calculator (with slider)\n",
    "dose = widgets.FloatSlider(value=50.0, min=1.0, max=200.0, step=1.0, description='Dose (mJ/cm²):')\n",
    "intensity = widgets.FloatSlider(value=10.0, min=0.5, max=100.0, step=0.5, description='Intensity (mW/cm²):')\n",
    "out = widgets.Output()\n",
    "\n",
    "def update_exposure(*args):\n",
    "    with out:\n",
    "        out.clear_output()\n",
    "        I = intensity.value\n",
    "        D = dose.value\n",
    "        t = D / I\n",
    "        display(Markdown(f\"**Exposure time:** `{t:.2f} s`\"))\n",
    "        display(Markdown(f\"If intensity ×5 → `{(D/(5*I)):.2f} s` (watch phototoxicity/heating).\"))\n",
    "\n",
    "dose.observe(update_exposure, 'value')\n",
    "intensity.observe(update_exposure, 'value')\n",
    "\n",
    "display(widgets.VBox([dose, intensity, out]))\n",
    "update_exposure()"
   ]
  },
  {
   "cell_type": "markdown",
   "id": "b82b4325",
   "metadata": {},
   "source": [
    "\n",
    "## 2) Layer-by-Layer Build Time\n",
    "\n",
    "For height $H$, layer thickness $\\Delta z$, and per-layer time $t_\\ell$:\n",
    "\n",
    "$$\n",
    "T = \\left\\lceil \\frac{H}{\\Delta z} \\right\\rceil\\, t_\\ell\\;.\n",
    "$$\n"
   ]
  },
  {
   "cell_type": "code",
   "execution_count": null,
   "id": "c839c258",
   "metadata": {},
   "outputs": [],
   "source": [
    "# @title Build time calculator (layers)\n",
    "H = widgets.FloatSlider(value=12.0, min=1.0, max=200.0, step=1.0, description='Height H (mm):')\n",
    "dz = widgets.FloatSlider(value=0.10, min=0.01, max=1.0, step=0.01, readout_format='.2f', description='Layer Δz (mm):')\n",
    "tL = widgets.FloatSlider(value=30.0, min=1.0, max=240.0, step=1.0, description='Time/layer (s):')\n",
    "out2 = widgets.Output()\n",
    "\n",
    "def upd2(*_):\n",
    "    with out2:\n",
    "        out2.clear_output()\n",
    "        layers = math.ceil(H.value/dz.value)\n",
    "        T = layers*tL.value\n",
    "        display(Markdown(f\"**Layers:** `{layers}` — **Total time:** `{T/60:.1f} min`\"))\n",
    "for w in (H,dz,tL): w.observe(upd2,'value')\n",
    "display(widgets.VBox([H,dz,tL,out2])); upd2()"
   ]
  },
  {
   "cell_type": "markdown",
   "id": "e14a59a1",
   "metadata": {},
   "source": [
    "\n",
    "## 3) SLA Exposure Budget (resolution vs speed)\n",
    "\n",
    "Total exposure for an SLA print with layer thickness $\\Delta z$ and exposure per layer $t_e$:\n",
    "\n",
    "$$\n",
    "T_{\\text{exp}} = \\left\\lceil \\frac{H}{\\Delta z} \\right\\rceil\\, t_e\\;.\n",
    "$$\n"
   ]
  },
  {
   "cell_type": "code",
   "execution_count": null,
   "id": "7f890938",
   "metadata": {},
   "outputs": [],
   "source": [
    "# @title SLA exposure budget\n",
    "H3 = widgets.FloatSlider(value=30.0, min=1.0, max=200.0, step=1.0, description='Height H (mm):')\n",
    "dz3 = widgets.FloatSlider(value=0.05, min=0.01, max=0.50, step=0.01, readout_format='.2f', description='Layer Δz (mm):')\n",
    "te  = widgets.FloatSlider(value=20.0, min=1.0, max=240.0, step=1.0, description='Exposure/layer (s):')\n",
    "out3 = widgets.Output()\n",
    "\n",
    "def upd3(*_):\n",
    "    with out3:\n",
    "        out3.clear_output()\n",
    "        layers = math.ceil(H3.value/dz3.value)\n",
    "        Texpo = layers*te.value\n",
    "        display(Markdown(f\"**Layers:** `{layers}` — **Total exposure:** `{Texpo/3600:.2f} h`\"))\n",
    "for w in (H3,dz3,te): w.observe(upd3,'value')\n",
    "display(widgets.VBox([H3,dz3,te,out3])); upd3()"
   ]
  },
  {
   "cell_type": "markdown",
   "id": "17577512",
   "metadata": {},
   "source": [
    "\n",
    "## 4) Mass of Printed Implant (Infill)\n",
    "\n",
    "Mass:\n",
    "$$\n",
    "m = V\\, \\rho\\, f\\;,\n",
    "$$\n",
    "where $f$ is the infill fraction (0–1).\n"
   ]
  },
  {
   "cell_type": "code",
   "execution_count": null,
   "id": "4b552b15",
   "metadata": {},
   "outputs": [],
   "source": [
    "# @title Implant mass with infill\n",
    "V   = widgets.FloatSlider(value=2.0, min=0.1, max=200.0, step=0.1, description='Volume (cm³):')\n",
    "rho = widgets.FloatSlider(value=1.1, min=0.2, max=3.0,  step=0.1, description='Density (g/cm³):')\n",
    "f   = widgets.FloatSlider(value=0.40, min=0.05, max=1.0,  step=0.05, readout_format='.2f', description='Infill fraction:')\n",
    "out4 = widgets.Output()\n",
    "\n",
    "def upd4(*_):\n",
    "    with out4:\n",
    "        out4.clear_output()\n",
    "        m = V.value * rho.value * f.value\n",
    "        display(Markdown(f\"**Mass:** `{m:.3f} g`\"))\n",
    "for w in (V,rho,f): w.observe(upd4,'value')\n",
    "display(widgets.VBox([V,rho,f,out4])); upd4()"
   ]
  },
  {
   "cell_type": "markdown",
   "id": "4480c60c",
   "metadata": {},
   "source": [
    "\n",
    "## 5) Oxygen Diffusion & Viable Thickness (1D steady-state)\n",
    "\n",
    "Solve on half-thickness $L$ with $c(0)=c_0$ and $\\frac{dc}{dx}\\big|_{x=L}=0$ for\n",
    "\n",
    "$$\n",
    "D\\,\\frac{d^2 c}{dx^2} - k\\,c = 0,\n",
    "$$\n",
    "\n",
    "and find the largest $L$ with $\\min c(x) \\ge c_{\\min}$.\n"
   ]
  },
  {
   "cell_type": "code",
   "execution_count": null,
   "id": "62527fd7",
   "metadata": {},
   "outputs": [],
   "source": [
    "# @title Viable thickness (diffusion–reaction) with sliders\n",
    "c0   = widgets.FloatSlider(value=1.0, min=0.01, max=1.0,  step=0.01, description='c0 (norm):')\n",
    "cmin = widgets.FloatSlider(value=0.10, min=0.01, max=0.90, step=0.01, description='c_min:')\n",
    "D    = widgets.FloatLogSlider(value=3e-9, base=10, min=-10, max=-7, step=0.01, description='D (m²/s):')\n",
    "k    = widgets.FloatLogSlider(value=1e-2, base=10, min=-4,  max=0,  step=0.01, description='k (1/s):')\n",
    "out5 = widgets.Output()\n",
    "\n",
    "def _viable_half_thickness(c0_val, cmin_val, D_val, k_val):\n",
    "    def min_c(L):\n",
    "        N = max(50, int(200*L/(200e-6)))\n",
    "        x = np.linspace(0, L, N+1)\n",
    "        dx = x[1]-x[0]\n",
    "        a = D_val/(dx*dx); b = k_val\n",
    "        A = np.zeros((N+1, N+1)); rhs = np.zeros(N+1)\n",
    "        A[0,0]=1.0; rhs[0]=c0_val\n",
    "        for i in range(1,N):\n",
    "            A[i,i-1]=a; A[i,i]=-2*a-b; A[i,i+1]=a\n",
    "        A[N,N]=1.0; A[N,N-1]=-1.0\n",
    "        sol = np.linalg.solve(A, rhs)\n",
    "        return sol.min()\n",
    "    lo, hi = 10e-6, 2e-3\n",
    "    for _ in range(30):\n",
    "        mid = 0.5*(lo+hi)\n",
    "        if min_c(mid) >= cmin_val: lo = mid\n",
    "        else: hi = mid\n",
    "    return lo\n",
    "\n",
    "def upd5(*_):\n",
    "    with out5:\n",
    "        out5.clear_output()\n",
    "        L = _viable_half_thickness(c0.value, cmin.value, D.value, k.value)\n",
    "        display(Markdown(f\"**Max half-thickness** ≈ `{L*1e6:.0f} µm`  → **full** ≈ `{2*L*1e6:.0f} µm`\"))\n",
    "for w in (c0,cmin,D,k): w.observe(upd5,'value')\n",
    "display(widgets.VBox([c0,cmin,D,k,out5])); upd5()"
   ]
  },
  {
   "cell_type": "markdown",
   "id": "f7ec07bf",
   "metadata": {},
   "source": [
    "\n",
    "## 6) Effective Diffusivity in Porous Hydrogels\n",
    "\n",
    "$$\n",
    "D_e = D_0\\, \\frac{\\varepsilon}{\\tau}\\;.\n",
    "$$\n"
   ]
  },
  {
   "cell_type": "code",
   "execution_count": null,
   "id": "4ce3f77a",
   "metadata": {},
   "outputs": [],
   "source": [
    "# @title Effective diffusivity\n",
    "D0  = widgets.FloatLogSlider(value=3e-9, base=10, min=-10, max=-7, step=0.01, description='D0 (m²/s):')\n",
    "eps = widgets.FloatSlider(value=0.80, min=0.10, max=0.99, step=0.01, description='Porosity ε:')\n",
    "tau = widgets.FloatSlider(value=2.00, min=1.00, max=5.00, step=0.10, description='Tortuosity τ:')\n",
    "out6 = widgets.Output()\n",
    "\n",
    "def upd6(*_):\n",
    "    with out6:\n",
    "        out6.clear_output()\n",
    "        De = D0.value * eps.value / tau.value\n",
    "        display(Markdown(f\"**De** = `{De:.2e} m²/s`; if τ doubles → `{D0.value*eps.value/(2*tau.value):.2e} m²/s`\"))\n",
    "for w in (D0,eps,tau): w.observe(upd6,'value')\n",
    "display(widgets.VBox([D0,eps,tau,out6])); upd6()"
   ]
  },
  {
   "cell_type": "markdown",
   "id": "88708558",
   "metadata": {},
   "source": [
    "\n",
    "## 7) Extrusion Flow & Wall Shear Stress (Hagen–Poiseuille)\n",
    "\n",
    "$$\n",
    "Q = \\frac{\\pi r^4 P}{8\\eta L}, \\qquad\n",
    "\\tau_w = \\frac{4\\eta Q}{\\pi r^3}\\;.\n",
    "$$\n"
   ]
  },
  {
   "cell_type": "code",
   "execution_count": null,
   "id": "f4e04473",
   "metadata": {},
   "outputs": [],
   "source": [
    "# @title Extrusion flow and shear\n",
    "r   = widgets.FloatSlider(value=150.0, min=25.0, max=500.0, step=5.0, description='Radius (µm):')\n",
    "Lnoz= widgets.FloatSlider(value=5.0,   min=1.0,  max=50.0, step=0.5, description='Length (mm):')\n",
    "eta = widgets.FloatLogSlider(value=0.1, base=10, min=-2, max=1, step=0.01, description='η (Pa·s):')\n",
    "P   = widgets.FloatSlider(value=150.0, min=5.0,  max=500.0, step=5.0, description='Pressure (kPa):')\n",
    "out7 = widgets.Output()\n",
    "\n",
    "def upd7(*_):\n",
    "    with out7:\n",
    "        out7.clear_output()\n",
    "        rr = r.value*1e-6; LL = Lnoz.value*1e-3; PP = P.value*1e3\n",
    "        Q  = math.pi*rr**4*PP/(8.0*eta.value*LL)\n",
    "        tau= 4.0*eta.value*Q/(math.pi*rr**3)\n",
    "        display(Markdown(f\"**Q:** `{Q*1e9:.2f} nL/s` — **wall shear τ:** `{tau:.1f} Pa` (≤ ~200 Pa?)\"))\n",
    "for w in (r,Lnoz,eta,P): w.observe(upd7,'value')\n",
    "display(widgets.VBox([r,Lnoz,eta,P,out7])); upd7()"
   ]
  },
  {
   "cell_type": "markdown",
   "id": "98588c8d",
   "metadata": {},
   "source": [
    "\n",
    "## 8) Composite Modulus (Voigt/Reuss bounds)\n",
    "\n",
    "Upper (iso-strain) and lower (iso-stress) bounds:\n",
    "\n",
    "$$\n",
    "E_V = \\sum v_i E_i, \\qquad\n",
    "E_R = \\left(\\sum \\frac{v_i}{E_i}\\right)^{-1}.\n",
    "$$\n"
   ]
  },
  {
   "cell_type": "code",
   "execution_count": null,
   "id": "b413accc",
   "metadata": {},
   "outputs": [],
   "source": [
    "# @title Composite modulus bounds\n",
    "v_PCL = widgets.FloatSlider(value=0.60, min=0.0, max=1.0, step=0.05, description='v_PCL:')\n",
    "E_PCL = widgets.FloatLogSlider(value=300e6, base=10, min=3, max=10, step=0.01, description='E_PCL (Pa):')\n",
    "E_h   = widgets.FloatLogSlider(value=0.5e6, base=10, min=3, max=8,  step=0.01, description='E_hydrogel (Pa):')\n",
    "out8  = widgets.Output()\n",
    "\n",
    "def upd8(*_):\n",
    "    with out8:\n",
    "        out8.clear_output()\n",
    "        v1, v2 = v_PCL.value, 1-v_PCL.value\n",
    "        Ev = v1*E_PCL.value + v2*E_h.value\n",
    "        Er = 1.0/(v1/E_PCL.value + v2/E_h.value)\n",
    "        display(Markdown(f\"**Voigt upper:** `{Ev/1e6:.2f} MPa` — **Reuss lower:** `{Er/1e6:.4f} MPa`\"))\n",
    "for w in (v_PCL,E_PCL,E_h): w.observe(upd8,'value')\n",
    "display(widgets.VBox([v_PCL,E_PCL,E_h,out8])); upd8()"
   ]
  },
  {
   "cell_type": "markdown",
   "id": "5ec6d151",
   "metadata": {},
   "source": [
    "\n",
    "## 9) (Bonus) 4D Thermoresponsive Bilayer Bending\n",
    "\n",
    "Approximate curvature for mismatch strain $\\epsilon = \\Delta\\alpha\\,\\Delta T$.\n"
   ]
  },
  {
   "cell_type": "code",
   "execution_count": null,
   "id": "a2aff46c",
   "metadata": {},
   "outputs": [],
   "source": [
    "# @title Bilayer curvature (interactive)\n",
    "E1 = widgets.FloatLogSlider(value=10e3, base=10, min=2, max=7, step=0.01, description='E1 (Pa):')\n",
    "E2 = widgets.FloatLogSlider(value=50e3, base=10, min=2, max=7, step=0.01, description='E2 (Pa):')\n",
    "t1 = widgets.FloatSlider(value=0.5, min=0.1, max=2.0, step=0.05, description='t1 (mm):')\n",
    "t2 = widgets.FloatSlider(value=0.5, min=0.1, max=2.0, step=0.05, description='t2 (mm):')\n",
    "dalpha = widgets.FloatLogSlider(value=2e-3, base=10, min=-5, max=-1, step=0.01, description='Δα (1/°C):')\n",
    "dT = widgets.FloatSlider(value=12.0, min=-20.0, max=40.0, step=0.5, description='ΔT (°C):')\n",
    "out9 = widgets.Output()\n",
    "\n",
    "def curvature(E1v,E2v,t1v,t2v,da,dT):\n",
    "    n = E2v/E1v; m = (t2v*1e-3)/(t1v*1e-3)\n",
    "    eps = da*dT\n",
    "    return (6*eps)/((t1v*1e-3)*(1+4*m+6*m**2+4*m**3+m**4)*(1+n*m))\n",
    "\n",
    "def upd9(*_):\n",
    "    with out9:\n",
    "        out9.clear_output()\n",
    "        kappa = curvature(E1.value,E2.value,t1.value,t2.value,dalpha.value,dT.value)\n",
    "        R = float('inf') if kappa==0 else 1.0/kappa\n",
    "        display(Markdown(f\"**Curvature κ:** `{kappa:.3f} 1/m` — **Radius R:** `{R:.2f} m`\"))\n",
    "for w in (E1,E2,t1,t2,dalpha,dT): w.observe(upd9,'value')\n",
    "display(widgets.VBox([E1,E2,t1,t2,dalpha,dT,out9])); upd9()"
   ]
  }
 ],
 "metadata": {},
 "nbformat": 4,
 "nbformat_minor": 5
}
