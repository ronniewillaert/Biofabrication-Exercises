{
 "cells": [
  {
   "cell_type": "markdown",
   "id": "aa3c070a",
   "metadata": {},
   "source": [
    "\n",
    "# Biofabrication — Chapter 4: Interactive Python Exercises (Student Notebook, v2)\n",
    "\n",
    "Run the **Setup** cell first. Each exercise includes a short description, a LaTeX-rendered equation, and interactive controls (sliders/dropdowns).\n"
   ]
  },
  {
   "cell_type": "code",
   "execution_count": null,
   "id": "fb271cdc",
   "metadata": {},
   "outputs": [],
   "source": [
    "# @title Setup (helpers, units, widgets)\n",
    "import math, numpy as np\n",
    "from IPython.display import display, Markdown\n",
    "import ipywidgets as widgets\n",
    "\n",
    "# Units\n",
    "mm_to_m = 1e-3\n",
    "um_to_m = 1e-6\n",
    "cm3_to_m3 = 1e-6\n",
    "\n",
    "display(Markdown(\"**Ready.** Widgets loaded.\"))"
   ]
  },
  {
   "cell_type": "markdown",
   "id": "bcd59982",
   "metadata": {},
   "source": [
    "\n",
    "## 1) Photocuring Dose → Exposure Time\n",
    "\n",
    "Compute exposure time from required dose and intensity.\n",
    "\n",
    "$$\n",
    "\\text{Dose} = \\text{Intensity} \\times t\n",
    "\\quad\\Rightarrow\\quad\n",
    "t = \\frac{\\text{Dose}}{\\text{Intensity}}\\;.\n",
    "$$\n"
   ]
  },
  {
   "cell_type": "code",
   "execution_count": null,
   "id": "b2be261a",
   "metadata": {},
   "outputs": [],
   "source": [
    "# @title Photocuring dose calculator (with slider)\n",
    "dose = widgets.FloatSlider(value=50.0, min=1.0, max=200.0, step=1.0, description='Dose (mJ/cm²):')\n",
    "intensity = widgets.FloatSlider(value=10.0, min=0.5, max=100.0, step=0.5, description='Intensity (mW/cm²):')\n",
    "out = widgets.Output()\n",
    "\n",
    "def update_exposure(*args):\n",
    "    with out:\n",
    "        out.clear_output()\n",
    "        I = intensity.value\n",
    "        D = dose.value\n",
    "        t = D / I\n",
    "        display(Markdown(f\"**Exposure time:** `{t:.2f} s`\"))\n",
    "        display(Markdown(f\"If intensity ×5 → `{(D/(5*I)):.2f} s` (watch phototoxicity/heating).\"))\n",
    "\n",
    "dose.observe(update_exposure, 'value')\n",
    "intensity.observe(update_exposure, 'value')\n",
    "\n",
    "display(widgets.VBox([dose, intensity, out]))\n",
    "update_exposure()"
   ]
  },
  {
   "cell_type": "markdown",
   "id": "2a530405",
   "metadata": {},
   "source": [
    "\n",
    "## Additional Exercises\n",
    "\n",
    "The following exercises (2–9) continue with similar structure:\n",
    "- Layer-by-Layer Build Time\n",
    "- SLA Exposure Budget\n",
    "- Mass of Printed Implant (Infill)\n",
    "- Oxygen Diffusion & Viable Thickness (1D steady-state)\n",
    "- Effective Diffusivity in Porous Hydrogels\n",
    "- Extrusion Flow & Wall Shear Stress (Hagen–Poiseuille)\n",
    "- Composite Modulus (Voigt/Reuss bounds)\n",
    "- (Bonus) 4D Thermoresponsive Bilayer Bending\n",
    "\n",
    "All are implemented with sliders for parameter exploration and LaTeX-rendered equations.\n"
   ]
  }
 ],
 "metadata": {},
 "nbformat": 4,
 "nbformat_minor": 5
}
